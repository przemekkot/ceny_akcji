{
 "metadata": {
  "language_info": {
   "codemirror_mode": {
    "name": "ipython",
    "version": 3
   },
   "file_extension": ".py",
   "mimetype": "text/x-python",
   "name": "python",
   "nbconvert_exporter": "python",
   "pygments_lexer": "ipython3",
   "version": "3.8.3-final"
  },
  "orig_nbformat": 2,
  "kernelspec": {
   "name": "python3",
   "display_name": "Python 3"
  }
 },
 "nbformat": 4,
 "nbformat_minor": 2,
 "cells": [
  {
   "cell_type": "code",
   "execution_count": 1,
   "metadata": {},
   "outputs": [
    {
     "output_type": "error",
     "ename": "NameError",
     "evalue": "name 'subplots' is not defined",
     "traceback": [
      "\u001b[1;31m---------------------------------------------------------------------------\u001b[0m",
      "\u001b[1;31mNameError\u001b[0m                                 Traceback (most recent call last)",
      "\u001b[1;32m<ipython-input-1-1ad4d6f75426>\u001b[0m in \u001b[0;36m<module>\u001b[1;34m\u001b[0m\n\u001b[1;32m----> 1\u001b[1;33m \u001b[0mfig2\u001b[0m \u001b[1;33m=\u001b[0m \u001b[0msubplots\u001b[0m\u001b[1;33m.\u001b[0m\u001b[0mmake_subplots\u001b[0m\u001b[1;33m(\u001b[0m\u001b[0mrows\u001b[0m\u001b[1;33m=\u001b[0m\u001b[1;36m3\u001b[0m\u001b[1;33m,\u001b[0m\u001b[0mcols\u001b[0m\u001b[1;33m=\u001b[0m\u001b[1;36m1\u001b[0m\u001b[1;33m,\u001b[0m \u001b[0msubplot_titles\u001b[0m\u001b[1;33m=\u001b[0m\u001b[1;33m[\u001b[0m\u001b[1;34m'KGHM'\u001b[0m\u001b[1;33m,\u001b[0m\u001b[1;34m'Miedź'\u001b[0m\u001b[1;33m,\u001b[0m\u001b[1;34m'Wspólne zestawienie cen KGHM i miedzi'\u001b[0m\u001b[1;33m]\u001b[0m\u001b[1;33m,\u001b[0m\u001b[0mshared_xaxes\u001b[0m\u001b[1;33m=\u001b[0m\u001b[1;32mTrue\u001b[0m\u001b[1;33m)\u001b[0m\u001b[1;33m\u001b[0m\u001b[1;33m\u001b[0m\u001b[0m\n\u001b[0m\u001b[0;32m      2\u001b[0m \u001b[1;33m\u001b[0m\u001b[0m\n\u001b[0;32m      3\u001b[0m trace0 = go.Scatter(x=akcje['Data'],\n\u001b[0;32m      4\u001b[0m                    \u001b[0my\u001b[0m\u001b[1;33m=\u001b[0m\u001b[0makcje\u001b[0m\u001b[1;33m[\u001b[0m\u001b[1;34m'Zamkniecie'\u001b[0m\u001b[1;33m]\u001b[0m\u001b[1;33m,\u001b[0m\u001b[1;33m\u001b[0m\u001b[1;33m\u001b[0m\u001b[0m\n\u001b[0;32m      5\u001b[0m                    \u001b[0mline_color\u001b[0m\u001b[1;33m=\u001b[0m\u001b[1;34m'#3333FF'\u001b[0m\u001b[1;33m,\u001b[0m\u001b[1;33m\u001b[0m\u001b[1;33m\u001b[0m\u001b[0m\n",
      "\u001b[1;31mNameError\u001b[0m: name 'subplots' is not defined"
     ]
    }
   ],
   "source": [
    "fig2 = subplots.make_subplots(rows=3,cols=1, subplot_titles=['KGHM','Miedź','Wspólne zestawienie cen KGHM i miedzi'],shared_xaxes=True)\n",
    "\n",
    "trace0 = go.Scatter(x=akcje['Data'],\n",
    "                   y=akcje['Zamkniecie'],\n",
    "                   line_color='#3333FF',\n",
    "                   text=akcje['Zamkniecie'])\n",
    "\n",
    "trace1 = go.Scatter(x=miedz['Data'],\n",
    "                   y=miedz['Zamkniecie'],\n",
    "                   line_color='#F7240B',\n",
    "                   text=miedz['Zamkniecie'])\n",
    "\n",
    "table_trace = go.Table(columnwidth=[1, 1, 1],\n",
    "                        columnorder=[0, 1, 2],\n",
    "                        header = dict(height = 50,\n",
    "                                      values = [['<b>Data</b>'],['<b>KGHM</b>'],['<b>Miedź</b>']]),\n",
    "                        cells = dict(values = [tabela[k].tolist() for k in ['Data', 'KGHM', 'Miedź']]))\n",
    "\n",
    "layout = dict(title='Porównanie cen akcji KGHM i miedzi w latach 2015 - 2020',\n",
    "              showlegend=False,\n",
    "              width=900, \n",
    "              height=500)\n",
    "\n",
    "fig2 = dict(data=[trace0, trace1, table_trace], layout=layout)\n",
    "iplot(fig2)"
   ]
  },
  {
   "cell_type": "code",
   "execution_count": null,
   "metadata": {},
   "outputs": [],
   "source": []
  }
 ]
}